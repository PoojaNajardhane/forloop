{
 "cells": [
  {
   "cell_type": "code",
   "execution_count": 1,
   "id": "bdbc9fd6-9626-4407-9ffa-f2b8f2954540",
   "metadata": {},
   "outputs": [
    {
     "name": "stdout",
     "output_type": "stream",
     "text": [
      "1\n",
      "2\n",
      "3\n",
      "4\n",
      "5\n",
      "6\n",
      "7\n",
      "8\n",
      "9\n",
      "10\n"
     ]
    }
   ],
   "source": [
    "# For Loop :-\n",
    "# 1.\tWrite a Python program to print numbers from 1 to 10 using a for loop.\n",
    "\n",
    "for number in range(1, 11):\n",
    "    print(number)\n"
   ]
  },
  {
   "cell_type": "code",
   "execution_count": 3,
   "id": "8c3968de-3468-4ee8-a688-ac7c3584105b",
   "metadata": {},
   "outputs": [
    {
     "name": "stdout",
     "output_type": "stream",
     "text": [
      "0\n",
      "1\n",
      "2\n",
      "3\n",
      "4\n",
      "0\n",
      "1\n",
      "2\n",
      "3\n",
      "4\n"
     ]
    }
   ],
   "source": [
    "#2.\tExplain the difference between a for loop and a while loop in Python\n",
    "# For loop example\n",
    "for i in range(5):\n",
    "    print(i)\n",
    "\n",
    "# While loop example\n",
    "i = 0\n",
    "while i < 5:\n",
    "    print(i)\n",
    "    i += 1\n",
    "\n",
    " "
   ]
  },
  {
   "cell_type": "code",
   "execution_count": 5,
   "id": "1949bac5-d0f3-4813-870b-de084608edfa",
   "metadata": {},
   "outputs": [
    {
     "name": "stdout",
     "output_type": "stream",
     "text": [
      "5050\n"
     ]
    }
   ],
   "source": [
    "#3.\tWrite a Python program to calculate the sum of all numbers from 1 to 100 using a for loop.\n",
    "total_sum = 0\n",
    "for number in range(1, 101):\n",
    "    total_sum += number\n",
    "print(total_sum)\n"
   ]
  },
  {
   "cell_type": "code",
   "execution_count": 7,
   "id": "5b615386-0ec5-4940-b6ea-7f7745b5ac45",
   "metadata": {},
   "outputs": [
    {
     "name": "stdout",
     "output_type": "stream",
     "text": [
      "1\n",
      "2\n",
      "3\n",
      "4\n",
      "5\n"
     ]
    }
   ],
   "source": [
    "#4.\tHow do you iterate through a list using a for loop in Python?\n",
    "my_list = [1, 2, 3, 4, 5]\n",
    "for item in my_list:\n",
    "    print(item)\n"
   ]
  },
  {
   "cell_type": "code",
   "execution_count": 9,
   "id": "0ecc0b1e-a2ee-4239-8e67-aa904fe57b66",
   "metadata": {},
   "outputs": [
    {
     "name": "stdout",
     "output_type": "stream",
     "text": [
      "24\n"
     ]
    }
   ],
   "source": [
    "#5.\tWrite a Python program to find the product of all elements in a list using a for loop.\n",
    "numbers = [1, 2, 3, 4]\n",
    "product = 1\n",
    "for number in numbers:\n",
    "    product *= number\n",
    "print(product)\n"
   ]
  },
  {
   "cell_type": "code",
   "execution_count": 11,
   "id": "7094f65e-e623-4e9a-b14b-7b40c9d85409",
   "metadata": {},
   "outputs": [
    {
     "name": "stdout",
     "output_type": "stream",
     "text": [
      "2\n",
      "4\n",
      "6\n",
      "8\n",
      "10\n",
      "12\n",
      "14\n",
      "16\n",
      "18\n",
      "20\n"
     ]
    }
   ],
   "source": [
    "#6.\tCreate a Python program that prints all even numbers from 1 to 20 using a for loop.\n",
    "for number in range(1, 21):\n",
    "    if number % 2 == 0:\n",
    "        print(number)\n"
   ]
  },
  {
   "cell_type": "code",
   "execution_count": 13,
   "id": "522ea89b-3a74-4387-9f11-890a7fb30252",
   "metadata": {},
   "outputs": [
    {
     "name": "stdout",
     "output_type": "stream",
     "text": [
      "120\n"
     ]
    }
   ],
   "source": [
    "#7.\tWrite a Python program that calculates the factorial of a number using a for loop.\n",
    "number = 5\n",
    "factorial = 1\n",
    "for i in range(1, number + 1):\n",
    "    factorial *= i\n",
    "print(factorial)\n"
   ]
  },
  {
   "cell_type": "code",
   "execution_count": 15,
   "id": "de418e93-6fbb-4269-9d29-680284987388",
   "metadata": {},
   "outputs": [
    {
     "name": "stdout",
     "output_type": "stream",
     "text": [
      "h\n",
      "e\n",
      "l\n",
      "l\n",
      "o\n"
     ]
    }
   ],
   "source": [
    "#8.\tHow can you iterate through the characters of a string using a for loop in Python?\n",
    "my_string = \"hello\"\n",
    "for char in my_string:\n",
    "    print(char)\n"
   ]
  },
  {
   "cell_type": "code",
   "execution_count": 17,
   "id": "b075ac4e-efed-48c9-9f7a-8a4b7b792e9a",
   "metadata": {},
   "outputs": [
    {
     "name": "stdout",
     "output_type": "stream",
     "text": [
      "9\n"
     ]
    }
   ],
   "source": [
    "#9.\tWrite a Python program to find the largest number in a list using a for loop.\n",
    "numbers = [3, 7, 2, 9, 5]\n",
    "largest = numbers[0]\n",
    "for number in numbers:\n",
    "    if number > largest:\n",
    "        largest = number\n",
    "print(largest)\n"
   ]
  },
  {
   "cell_type": "code",
   "execution_count": 19,
   "id": "b85abf80-4d1a-4dae-ab20-bf4efa9e4890",
   "metadata": {},
   "outputs": [
    {
     "name": "stdout",
     "output_type": "stream",
     "text": [
      "0\n",
      "1\n",
      "1\n",
      "2\n",
      "3\n",
      "5\n",
      "8\n",
      "13\n",
      "21\n",
      "34\n",
      "55\n",
      "89\n"
     ]
    }
   ],
   "source": [
    "#10 \tCreate a Python program that prints the Fibonacci sequence up to a specified limit using a for loop.\n",
    "limit = 100\n",
    "a, b = 0, 1\n",
    "while a <= limit:\n",
    "    print(a)\n",
    "    a, b = b, a + b\n"
   ]
  },
  {
   "cell_type": "code",
   "execution_count": 21,
   "id": "8b5cf255-5dce-4be3-a269-5d1329496dcc",
   "metadata": {},
   "outputs": [
    {
     "name": "stdout",
     "output_type": "stream",
     "text": [
      "3\n"
     ]
    }
   ],
   "source": [
    "#11.\tWrite a Python program to count the number of vowels in a given string using a for loop.\n",
    "sentence = \"Hello World\"\n",
    "vowels = \"aeiou\"\n",
    "count = 0\n",
    "for char in sentence.lower():\n",
    "    if char in vowels:\n",
    "        count += 1\n",
    "print(count)\n"
   ]
  },
  {
   "cell_type": "code",
   "execution_count": 23,
   "id": "506b9390-ab67-4375-8516-872cb4ef3e3b",
   "metadata": {},
   "outputs": [
    {
     "name": "stdout",
     "output_type": "stream",
     "text": [
      "5 x 1 = 5\n",
      "5 x 2 = 10\n",
      "5 x 3 = 15\n",
      "5 x 4 = 20\n",
      "5 x 5 = 25\n",
      "5 x 6 = 30\n",
      "5 x 7 = 35\n",
      "5 x 8 = 40\n",
      "5 x 9 = 45\n",
      "5 x 10 = 50\n"
     ]
    }
   ],
   "source": [
    "#12.\tCreate a Python program that generates a multiplication table for a given number using a for loop.\n",
    "number = 5\n",
    "for i in range(1, 11):\n",
    "    print(f\"{number} x {i} = {number * i}\")\n"
   ]
  },
  {
   "cell_type": "code",
   "execution_count": 25,
   "id": "be4c9137-2156-427f-b68a-8ca312a21a4d",
   "metadata": {},
   "outputs": [
    {
     "name": "stdout",
     "output_type": "stream",
     "text": [
      "[4, 3, 2, 1]\n"
     ]
    }
   ],
   "source": [
    "#13.\tWrite a Python program to reverse a list using a for loop.\n",
    "my_list = [1, 2, 3, 4]\n",
    "reversed_list = []\n",
    "for item in my_list:\n",
    "    reversed_list.insert(0, item)\n",
    "print(reversed_list)\n"
   ]
  },
  {
   "cell_type": "code",
   "execution_count": 27,
   "id": "cebe485a-91a6-4ffd-8d5c-0cb5ed5d4887",
   "metadata": {},
   "outputs": [
    {
     "name": "stdout",
     "output_type": "stream",
     "text": [
      "[3, 4]\n"
     ]
    }
   ],
   "source": [
    "#14.\tWrite a Python program to find the common elements between two lists using a for loop.\n",
    "list1 = [1, 2, 3, 4]\n",
    "list2 = [3, 4, 5, 6]\n",
    "common_elements = []\n",
    "for item in list1:\n",
    "    if item in list2:\n",
    "        common_elements.append(item)\n",
    "print(common_elements)\n"
   ]
  },
  {
   "cell_type": "code",
   "execution_count": 29,
   "id": "0661786c-37f0-497d-af56-0049346bcf1a",
   "metadata": {},
   "outputs": [
    {
     "name": "stdout",
     "output_type": "stream",
     "text": [
      "Key: a, Value: 1\n",
      "Key: b, Value: 2\n",
      "Key: c, Value: 3\n"
     ]
    }
   ],
   "source": [
    "#15.\tExplain how to use a for loop to iterate through the keys and values of a dictionary in Python.\n",
    "my_dict = {'a': 1, 'b': 2, 'c': 3}\n",
    "for key, value in my_dict.items():\n",
    "    print(f\"Key: {key}, Value: {value}\")\n"
   ]
  },
  {
   "cell_type": "code",
   "execution_count": 31,
   "id": "bb96100f-73ba-4629-824a-43dcf8f4fa66",
   "metadata": {},
   "outputs": [
    {
     "name": "stdout",
     "output_type": "stream",
     "text": [
      "6\n"
     ]
    }
   ],
   "source": [
    "#16.\tWrite a Python program to find the GCD (Greatest Common Divisor) of two numbers using a for loop.\n",
    "def gcd(a, b):\n",
    "    for i in range(min(a, b), 0, -1):\n",
    "        if a % i == 0 and b % i == 0:\n",
    "            return i\n",
    "\n",
    "print(gcd(48, 18))\n"
   ]
  },
  {
   "cell_type": "code",
   "execution_count": 33,
   "id": "75d3d73e-33d8-4179-a269-a08dea05a83f",
   "metadata": {},
   "outputs": [
    {
     "name": "stdout",
     "output_type": "stream",
     "text": [
      "True\n"
     ]
    }
   ],
   "source": [
    "#17.\tCreate a Python program that checks if a string is a palindrome using a for loop.\n",
    "def is_palindrome(s):\n",
    "    s = s.lower()\n",
    "    length = len(s)\n",
    "    for i in range(length // 2):\n",
    "        if s[i] != s[length - 1 - i]:\n",
    "            return False\n",
    "    return True\n",
    "\n",
    "print(is_palindrome(\"racecar\"))\n"
   ]
  },
  {
   "cell_type": "code",
   "execution_count": 35,
   "id": "695d49a6-a290-4023-b473-b30d45d45e5e",
   "metadata": {},
   "outputs": [
    {
     "name": "stdout",
     "output_type": "stream",
     "text": [
      "[1, 2, 3, 4]\n"
     ]
    }
   ],
   "source": [
    "#18.\tWrite a Python program to remove duplicates from a list using a for loop.\n",
    "my_list = [1, 2, 2, 3, 4, 4]\n",
    "unique_list = []\n",
    "for item in my_list:\n",
    "    if item not in unique_list:\n",
    "        unique_list.append(item)\n",
    "print(unique_list)\n"
   ]
  },
  {
   "cell_type": "code",
   "execution_count": 37,
   "id": "a1fdac65-1b2a-4cbe-8185-8047a2e33fe5",
   "metadata": {},
   "outputs": [
    {
     "name": "stdout",
     "output_type": "stream",
     "text": [
      "6\n"
     ]
    }
   ],
   "source": [
    "#19.\tCreate a Python program that counts the number of words in a sentence using a for loop.\n",
    "sentence = \"Hello world, this is a test.\"\n",
    "words = sentence.split()\n",
    "count = 0\n",
    "for word in words:\n",
    "    count += 1\n",
    "print(count)\n"
   ]
  },
  {
   "cell_type": "code",
   "execution_count": 39,
   "id": "fa43d95f-bf12-4841-a43b-fb89a8e91162",
   "metadata": {},
   "outputs": [
    {
     "name": "stdout",
     "output_type": "stream",
     "text": [
      "625\n"
     ]
    }
   ],
   "source": [
    "#20.\tWrite a Python program to find the sum of all odd numbers from 1 to 50 using a for loop.\n",
    "total_sum = 0\n",
    "for number in range(1, 51):\n",
    "    if number % 2 != 0:\n",
    "        total_sum += number\n",
    "print(total_sum)\n"
   ]
  },
  {
   "cell_type": "code",
   "execution_count": 41,
   "id": "d701bcd9-0f23-4d44-883d-d922ffa4d706",
   "metadata": {},
   "outputs": [
    {
     "name": "stdout",
     "output_type": "stream",
     "text": [
      "2024 is a leap year\n"
     ]
    }
   ],
   "source": [
    "#21.\tWrite a Python program that checks if a given year is a leap year using a for loop..\n",
    "year = 2024\n",
    "if (year % 4 == 0 and year % 100 != 0) or (year % 400 == 0):\n",
    "    print(f\"{year} is a leap year\")\n",
    "else:\n",
    "    print(f\"{year} is not a leap year\")\n"
   ]
  },
  {
   "cell_type": "code",
   "execution_count": 43,
   "id": "c8acbcb9-e51e-4bac-8671-82c61e3a0a9c",
   "metadata": {},
   "outputs": [
    {
     "name": "stdout",
     "output_type": "stream",
     "text": [
      "5.0\n"
     ]
    }
   ],
   "source": [
    "#22.\tCreate a Python program that calculates the square root of a number using a for loop.\n",
    "import math\n",
    "\n",
    "number = 25\n",
    "approx = number\n",
    "for _ in range(10):  # Iterating to get a closer approximation\n",
    "    approx = (approx + number / approx) / 2\n",
    "print(approx)\n"
   ]
  },
  {
   "cell_type": "code",
   "execution_count": 45,
   "id": "fb1943b8-1eb4-4cd1-8c56-4f35d7cc6a04",
   "metadata": {},
   "outputs": [
    {
     "name": "stdout",
     "output_type": "stream",
     "text": [
      "60\n"
     ]
    }
   ],
   "source": [
    "#23\n",
    "def lcm(a, b):\n",
    "    def gcd(x, y):\n",
    "        while y:\n",
    "            x, y = y, x % y\n",
    "        return x\n",
    "    return abs(a * b) // gcd(a, b)\n",
    "\n",
    "print(lcm(12, 15))\n"
   ]
  },
  {
   "cell_type": "code",
   "execution_count": 1,
   "id": "97808062-2972-416b-bd86-aecfd8899392",
   "metadata": {},
   "outputs": [
    {
     "name": "stdin",
     "output_type": "stream",
     "text": [
      "Enter a number:  4\n"
     ]
    },
    {
     "name": "stdout",
     "output_type": "stream",
     "text": [
      "Positive\n"
     ]
    }
   ],
   "source": [
    "#If else :\n",
    "#1\n",
    "number = int(input(\"Enter a number: \"))\n",
    "if number > 0:\n",
    "    print(\"Positive\")\n",
    "elif number < 0:\n",
    "    print(\"Negative\")\n",
    "else:\n",
    "    print(\"Zero\")\n"
   ]
  },
  {
   "cell_type": "code",
   "execution_count": 3,
   "id": "4832ddde-2718-426d-9755-7e704ecee2d2",
   "metadata": {},
   "outputs": [
    {
     "name": "stdout",
     "output_type": "stream",
     "text": [
      "30 is the largest\n"
     ]
    }
   ],
   "source": [
    "#2\n",
    "a, b, c = 10, 20, 30\n",
    "if a > b and a > c:\n",
    "    print(f\"{a} is the largest\")\n",
    "elif b > c:\n",
    "    print(f\"{b} is the largest\")\n",
    "else:\n",
    "    print(f\"{c} is the largest\")\n"
   ]
  },
  {
   "cell_type": "code",
   "execution_count": 5,
   "id": "1034951c-da02-442f-85d7-f4dbcf70edab",
   "metadata": {},
   "outputs": [
    {
     "name": "stdout",
     "output_type": "stream",
     "text": [
      "10\n"
     ]
    }
   ],
   "source": [
    "#3\n",
    "number = -10\n",
    "if number < 0:\n",
    "    absolute_value = -number\n",
    "else:\n",
    "    absolute_value = number\n",
    "print(absolute_value)\n"
   ]
  },
  {
   "cell_type": "code",
   "execution_count": 7,
   "id": "db30db6b-cc6a-4a35-bc22-d996d54f1519",
   "metadata": {},
   "outputs": [
    {
     "name": "stdin",
     "output_type": "stream",
     "text": [
      "Enter a character:  a\n"
     ]
    },
    {
     "name": "stdout",
     "output_type": "stream",
     "text": [
      "Vowel\n"
     ]
    }
   ],
   "source": [
    "#4\n",
    "char = input(\"Enter a character: \").lower()\n",
    "if char in 'aeiou':\n",
    "    print(\"Vowel\")\n",
    "else:\n",
    "    print(\"Consonant\")\n"
   ]
  },
  {
   "cell_type": "code",
   "execution_count": 9,
   "id": "d9c84c4b-7132-4750-9ad2-b9f442fe4b3d",
   "metadata": {},
   "outputs": [
    {
     "name": "stdin",
     "output_type": "stream",
     "text": [
      "Enter your age:  22\n"
     ]
    },
    {
     "name": "stdout",
     "output_type": "stream",
     "text": [
      "Eligible to vote\n"
     ]
    }
   ],
   "source": [
    "#5\n",
    "age = int(input(\"Enter your age: \"))\n",
    "if age >= 18:\n",
    "    print(\"Eligible to vote\")\n",
    "else:\n",
    "    print(\"Not eligible to vote\")\n"
   ]
  },
  {
   "cell_type": "code",
   "execution_count": 11,
   "id": "9472215b-bc8b-4dc5-b858-91b7628e71ca",
   "metadata": {},
   "outputs": [
    {
     "name": "stdin",
     "output_type": "stream",
     "text": [
      "Enter purchase amount:  3333\n"
     ]
    },
    {
     "name": "stdout",
     "output_type": "stream",
     "text": [
      "Discount: 333.3\n"
     ]
    }
   ],
   "source": [
    "#6\n",
    "amount = float(input(\"Enter purchase amount: \"))\n",
    "if amount > 100:\n",
    "    discount = amount * 0.10\n",
    "else:\n",
    "    discount = 0\n",
    "print(f\"Discount: {discount}\")\n"
   ]
  },
  {
   "cell_type": "code",
   "execution_count": 13,
   "id": "920d4f46-1481-4e1c-8368-d09e8e70775b",
   "metadata": {},
   "outputs": [
    {
     "name": "stdin",
     "output_type": "stream",
     "text": [
      "Enter a number:  6\n"
     ]
    },
    {
     "name": "stdout",
     "output_type": "stream",
     "text": [
      "Out of range\n"
     ]
    }
   ],
   "source": [
    "#7\n",
    "number = int(input(\"Enter a number: \"))\n",
    "if 10 <= number <= 20:\n",
    "    print(\"Within range\")\n",
    "else:\n",
    "    print(\"Out of range\")\n"
   ]
  },
  {
   "cell_type": "code",
   "execution_count": 15,
   "id": "47e5bf34-a0ca-4aa9-b13f-8b3c5ca49134",
   "metadata": {},
   "outputs": [
    {
     "name": "stdin",
     "output_type": "stream",
     "text": [
      "Enter your score:  44\n"
     ]
    },
    {
     "name": "stdout",
     "output_type": "stream",
     "text": [
      "Grade: F\n"
     ]
    }
   ],
   "source": [
    "#8\n",
    "score = int(input(\"Enter your score: \"))\n",
    "if score >= 90:\n",
    "    grade = 'A'\n",
    "elif score >= 80:\n",
    "    grade = 'B'\n",
    "elif score >= 70:\n",
    "    grade = 'C'\n",
    "elif score >= 60:\n",
    "    grade = 'D'\n",
    "else:\n",
    "    grade = 'F'\n",
    "print(f\"Grade: {grade}\")\n"
   ]
  },
  {
   "cell_type": "code",
   "execution_count": 19,
   "id": "4fb3a0d9-bc65-4595-afc8-814d5cf936ef",
   "metadata": {},
   "outputs": [
    {
     "name": "stdin",
     "output_type": "stream",
     "text": [
      "Enter a string:  rrrr\n"
     ]
    },
    {
     "name": "stdout",
     "output_type": "stream",
     "text": [
      "String is not empty\n"
     ]
    }
   ],
   "source": [
    "#9\n",
    "string = input(\"Enter a string: \")\n",
    "if string:\n",
    "    print(\"String is not empty\")\n",
    "else:\n",
    "    print(\"String is empty\")\n"
   ]
  },
  {
   "cell_type": "code",
   "execution_count": 21,
   "id": "85425fb0-6b8c-4fd0-9d43-173589ec4918",
   "metadata": {},
   "outputs": [
    {
     "name": "stdout",
     "output_type": "stream",
     "text": [
      "Isosceles\n"
     ]
    }
   ],
   "source": [
    "#10\n",
    "a, b, c = 5, 5, 8\n",
    "if a == b == c:\n",
    "    print(\"Equilateral\")\n",
    "elif a == b or b == c or a == c:\n",
    "    print(\"Isosceles\")\n",
    "else:\n",
    "    print(\"Scalene\")\n"
   ]
  },
  {
   "cell_type": "code",
   "execution_count": 23,
   "id": "3c03f403-dfd5-42ea-9759-c365f06a1389",
   "metadata": {},
   "outputs": [
    {
     "name": "stdin",
     "output_type": "stream",
     "text": [
      "Enter a number (1-7):  5\n"
     ]
    },
    {
     "name": "stdout",
     "output_type": "stream",
     "text": [
      "Friday\n"
     ]
    }
   ],
   "source": [
    "#11\n",
    "day_number = int(input(\"Enter a number (1-7): \"))\n",
    "if day_number == 1:\n",
    "    print(\"Monday\")\n",
    "elif day_number == 2:\n",
    "    print(\"Tuesday\")\n",
    "elif day_number == 3:\n",
    "    print(\"Wednesday\")\n",
    "elif day_number == 4:\n",
    "    print(\"Thursday\")\n",
    "elif day_number == 5:\n",
    "    print(\"Friday\")\n",
    "elif day_number == 6:\n",
    "    print(\"Saturday\")\n",
    "elif day_number == 7:\n",
    "    print(\"Sunday\")\n",
    "else:\n",
    "    print(\"Invalid number\")\n"
   ]
  },
  {
   "cell_type": "code",
   "execution_count": 25,
   "id": "e147b893-f3a1-4bb0-8afc-cc2e25e82d1e",
   "metadata": {},
   "outputs": [
    {
     "name": "stdin",
     "output_type": "stream",
     "text": [
      "Enter a year:  2000\n"
     ]
    },
    {
     "name": "stdout",
     "output_type": "stream",
     "text": [
      "2000 is a leap year\n"
     ]
    }
   ],
   "source": [
    "#12\n",
    "def is_leap_year(year):\n",
    "    if (year % 4 == 0 and year % 100 != 0) or (year % 400 == 0):\n",
    "        return True\n",
    "    return False\n",
    "\n",
    "year = int(input(\"Enter a year: \"))\n",
    "if is_leap_year(year):\n",
    "    print(f\"{year} is a leap year\")\n",
    "else:\n",
    "    print(f\"{year} is not a leap year\")\n"
   ]
  },
  {
   "cell_type": "code",
   "execution_count": 27,
   "id": "97c09b53-58e8-4fc0-af56-4d02afacd900",
   "metadata": {},
   "outputs": [],
   "source": [
    "#13\n",
    "x = 10\n",
    "assert x > 0, \"x should be positive\"\n"
   ]
  },
  {
   "cell_type": "code",
   "execution_count": null,
   "id": "374d8274-f024-4573-abb5-3de8ede49416",
   "metadata": {},
   "outputs": [
    {
     "name": "stdin",
     "output_type": "stream",
     "text": [
      "Enter your age:  44\n"
     ]
    }
   ],
   "source": [
    "#14\n",
    "age = int(input(\"Enter your age: \"))\n",
    "if age >= 65:\n",
    "    print(\"Eligible for senior citizen discount\")\n",
    "else:\n",
    "    print(\"Not eligible for senior citizen discount\")\n"
   ]
  },
  {
   "cell_type": "code",
   "execution_count": 1,
   "id": "57acbba7-3a0b-43de-a9e8-607db9e7c2c2",
   "metadata": {},
   "outputs": [
    {
     "name": "stdin",
     "output_type": "stream",
     "text": [
      "Enter a character:  a\n"
     ]
    },
    {
     "name": "stdout",
     "output_type": "stream",
     "text": [
      "Lowercase\n"
     ]
    }
   ],
   "source": [
    "#15\n",
    "char = input(\"Enter a character: \")\n",
    "if char.isupper():\n",
    "    print(\"Uppercase\")\n",
    "elif char.islower():\n",
    "    print(\"Lowercase\")\n",
    "else:\n",
    "    print(\"Neither\")\n"
   ]
  },
  {
   "cell_type": "code",
   "execution_count": 3,
   "id": "fa1fd92b-19a9-4b59-82af-41e9ea48623e",
   "metadata": {},
   "outputs": [
    {
     "name": "stdout",
     "output_type": "stream",
     "text": [
      "Roots are 2.0 and 1.0\n"
     ]
    }
   ],
   "source": [
    "#16\n",
    "import math\n",
    "\n",
    "a, b, c = 1, -3, 2\n",
    "discriminant = b**2 - 4*a*c\n",
    "if discriminant > 0:\n",
    "    root1 = (-b + math.sqrt(discriminant)) / (2 * a)\n",
    "    root2 = (-b - math.sqrt(discriminant)) / (2 * a)\n",
    "    print(f\"Roots are {root1} and {root2}\")\n",
    "elif discriminant == 0:\n",
    "    root = -b / (2 * a)\n",
    "    print(f\"Root is {root}\")\n",
    "else:\n",
    "    print(\"No real roots\")\n"
   ]
  },
  {
   "cell_type": "code",
   "execution_count": 5,
   "id": "0d299e4e-4d9f-40aa-8a84-1d481ba6a939",
   "metadata": {},
   "outputs": [
    {
     "name": "stdin",
     "output_type": "stream",
     "text": [
      "Enter a year:  2000\n"
     ]
    },
    {
     "name": "stdout",
     "output_type": "stream",
     "text": [
      "2000 is a century year\n"
     ]
    }
   ],
   "source": [
    "#17\n",
    "year = int(input(\"Enter a year: \"))\n",
    "if year % 100 == 0:\n",
    "    print(f\"{year} is a century year\")\n",
    "else:\n",
    "    print(f\"{year} is not a century year\")\n"
   ]
  },
  {
   "cell_type": "code",
   "execution_count": 7,
   "id": "8c528e71-8b25-44c4-9f7b-d003193187ac",
   "metadata": {},
   "outputs": [
    {
     "name": "stdin",
     "output_type": "stream",
     "text": [
      "Enter a number:  3\n"
     ]
    },
    {
     "name": "stdout",
     "output_type": "stream",
     "text": [
      "3 is not a perfect square\n"
     ]
    }
   ],
   "source": [
    "#18\n",
    "import math\n",
    "\n",
    "number = int(input(\"Enter a number: \"))\n",
    "sqrt = math.isqrt(number)\n",
    "if sqrt * sqrt == number:\n",
    "    print(f\"{number} is a perfect square\")\n",
    "else:\n",
    "    print(f\"{number} is not a perfect square\")\n"
   ]
  },
  {
   "cell_type": "code",
   "execution_count": 9,
   "id": "14700b36-2929-471e-ba04-457c46398cff",
   "metadata": {},
   "outputs": [
    {
     "name": "stdout",
     "output_type": "stream",
     "text": [
      "0\n",
      "1\n",
      "2\n",
      "3\n",
      "4\n",
      "6\n",
      "7\n"
     ]
    }
   ],
   "source": [
    "#19\n",
    "for i in range(10):\n",
    "    if i == 5:\n",
    "        continue  # Skip printing 5\n",
    "    if i == 8:\n",
    "        break  # Stop the loop when i is 8\n",
    "    print(i)\n"
   ]
  },
  {
   "cell_type": "code",
   "execution_count": null,
   "id": "ead12455-dae0-463e-a3f3-d58a00672ce3",
   "metadata": {},
   "outputs": [],
   "source": [
    "#20\n",
    "weight = float(input(\"Enter weight in kg: \"))\n",
    "height = float(input(\"Enter height in meters: \"))\n",
    "bmi = weight / (height ** 2)\n",
    "if bmi < 18.5:\n",
    "    print(f\"BMI is {bmi:.2f} - Underweight\")\n",
    "elif 18.5 <= bmi < 24.9:\n",
    "    print(f\"BMI is {bmi:.2f} - Normal weight\")\n",
    "elif 25 <= bmi < 29.9:\n",
    "    print(f\"BMI is {bmi:.2f} - Overweight\")\n",
    "else:\n",
    "    print(f\"BMI is {bmi:.2f} - Obesity\")\n"
   ]
  },
  {
   "cell_type": "code",
   "execution_count": 1,
   "id": "d1cc8a98-cfa3-4da3-b1f1-2621a7bddb21",
   "metadata": {},
   "outputs": [
    {
     "name": "stdout",
     "output_type": "stream",
     "text": [
      "[2, 4]\n"
     ]
    }
   ],
   "source": [
    "#21\n",
    "numbers = [1, 2, 3, 4, 5]\n",
    "even_numbers = list(filter(lambda x: x % 2 == 0, numbers))\n",
    "print(even_numbers)\n"
   ]
  },
  {
   "cell_type": "code",
   "execution_count": 3,
   "id": "d25b07db-98f5-42e3-b698-ed9abe83b3f1",
   "metadata": {},
   "outputs": [
    {
     "name": "stdin",
     "output_type": "stream",
     "text": [
      "Enter a number:  4\n"
     ]
    },
    {
     "name": "stdout",
     "output_type": "stream",
     "text": [
      "4 is not a prime number\n"
     ]
    }
   ],
   "source": [
    "#22\n",
    "number = int(input(\"Enter a number: \"))\n",
    "if number > 1:\n",
    "    for i in range(2, int(number**0.5) + 1):\n",
    "        if number % i == 0:\n",
    "            print(f\"{number} is not a prime number\")\n",
    "            break\n",
    "    else:\n",
    "        print(f\"{number} is a prime number\")\n",
    "else:\n",
    "    print(f\"{number} is not a prime number\")\n"
   ]
  },
  {
   "cell_type": "code",
   "execution_count": 5,
   "id": "967df982-2f1e-47f3-a5ca-68d340415008",
   "metadata": {},
   "outputs": [
    {
     "name": "stdout",
     "output_type": "stream",
     "text": [
      "[1, 4, 9, 16]\n"
     ]
    }
   ],
   "source": [
    "#Map:-\n",
    "#1\n",
    "def square(x):\n",
    "    return x * x\n",
    "\n",
    "numbers = [1, 2, 3, 4]\n",
    "squared = map(square, numbers)\n",
    "print(list(squared))\n"
   ]
  },
  {
   "cell_type": "code",
   "execution_count": 7,
   "id": "7b184d00-1259-446f-8d8a-8151cd53c9c5",
   "metadata": {},
   "outputs": [
    {
     "name": "stdout",
     "output_type": "stream",
     "text": [
      "[1, 4, 9, 16]\n"
     ]
    }
   ],
   "source": [
    "#2\n",
    "numbers = [1, 2, 3, 4]\n",
    "squared = list(map(lambda x: x * x, numbers))\n",
    "print(squared)\n"
   ]
  },
  {
   "cell_type": "code",
   "execution_count": 9,
   "id": "d63ae166-9080-4f11-88d7-34a62a905d99",
   "metadata": {},
   "outputs": [
    {
     "name": "stdout",
     "output_type": "stream",
     "text": [
      "[1, 4, 9, 16]\n"
     ]
    }
   ],
   "source": [
    "#3\n",
    "numbers = [1, 2, 3, 4]\n",
    "squared = [x * x for x in numbers]\n",
    "print(squared)\n"
   ]
  },
  {
   "cell_type": "code",
   "execution_count": 11,
   "id": "7b25c3e8-535e-48fd-b17a-2684a13326cd",
   "metadata": {},
   "outputs": [
    {
     "name": "stdout",
     "output_type": "stream",
     "text": [
      "['ALICE', 'BOB', 'CHARLIE']\n"
     ]
    }
   ],
   "source": [
    "#4\n",
    "names = ['alice', 'bob', 'charlie']\n",
    "uppercase_names = list(map(lambda name: name.upper(), names))\n",
    "print(uppercase_names)\n"
   ]
  },
  {
   "cell_type": "code",
   "execution_count": 13,
   "id": "d3360c0c-da45-46be-99b0-8e0e48b6f5b0",
   "metadata": {},
   "outputs": [
    {
     "name": "stdout",
     "output_type": "stream",
     "text": [
      "[5, 5]\n"
     ]
    }
   ],
   "source": [
    "#5\n",
    "words = ['hello', 'world']\n",
    "lengths = list(map(len, words))\n",
    "print(lengths)\n"
   ]
  },
  {
   "cell_type": "code",
   "execution_count": 15,
   "id": "5df59d3d-7425-43bb-bd6e-e2923e972f4b",
   "metadata": {},
   "outputs": [
    {
     "name": "stdout",
     "output_type": "stream",
     "text": [
      "[5, 7, 9]\n"
     ]
    }
   ],
   "source": [
    "#6\n",
    "def add(x, y):\n",
    "    return x + y\n",
    "\n",
    "list1 = [1, 2, 3]\n",
    "list2 = [4, 5, 6]\n",
    "result = list(map(add, list1, list2))\n",
    "print(result)\n"
   ]
  },
  {
   "cell_type": "code",
   "execution_count": 17,
   "id": "09465135-f87f-4dbf-b484-27c2d0a204ba",
   "metadata": {},
   "outputs": [
    {
     "name": "stdout",
     "output_type": "stream",
     "text": [
      "[32.0, 50.0, 68.0, 86.0]\n"
     ]
    }
   ],
   "source": [
    "#7\n",
    "celsius = [0, 10, 20, 30]\n",
    "fahrenheit = list(map(lambda c: c * 9/5 + 32, celsius))\n",
    "print(fahrenheit)\n"
   ]
  },
  {
   "cell_type": "code",
   "execution_count": 19,
   "id": "0d106749-3720-4112-9081-51a2ed44fe50",
   "metadata": {},
   "outputs": [
    {
     "name": "stdout",
     "output_type": "stream",
     "text": [
      "[1, 2, 4]\n"
     ]
    }
   ],
   "source": [
    "#8\n",
    "floats = [1.2, 2.5, 3.7]\n",
    "rounded = list(map(round, floats))\n",
    "print(rounded)\n"
   ]
  },
  {
   "cell_type": "code",
   "execution_count": 21,
   "id": "2dfa2282-0cb3-460d-8b3c-6a9f66a8c3c4",
   "metadata": {},
   "outputs": [
    {
     "name": "stdout",
     "output_type": "stream",
     "text": [
      "10\n"
     ]
    }
   ],
   "source": [
    "# Reduce :-\n",
    "#1\n",
    "from functools import reduce\n",
    "\n",
    "def add(x, y):\n",
    "    return x + y\n",
    "\n",
    "numbers = [1, 2, 3, 4]\n",
    "result = reduce(add, numbers)\n",
    "print(result)\n"
   ]
  },
  {
   "cell_type": "code",
   "execution_count": 23,
   "id": "cba71e81-22f7-45be-8db6-cf399d49606c",
   "metadata": {},
   "outputs": [
    {
     "name": "stdout",
     "output_type": "stream",
     "text": [
      "24\n"
     ]
    }
   ],
   "source": [
    "#2\n",
    "from functools import reduce\n",
    "\n",
    "numbers = [1, 2, 3, 4]\n",
    "product = reduce(lambda x, y: x * y, numbers)\n",
    "print(product)\n"
   ]
  },
  {
   "cell_type": "code",
   "execution_count": 25,
   "id": "571cf442-80d7-4fe2-b21c-d7496de85b08",
   "metadata": {},
   "outputs": [
    {
     "name": "stdout",
     "output_type": "stream",
     "text": [
      "9\n"
     ]
    }
   ],
   "source": [
    "#3\n",
    "from functools import reduce\n",
    "\n",
    "numbers = [1, 5, 3, 9]\n",
    "max_number = reduce(lambda x, y: x if x > y else y, numbers)\n",
    "print(max_number)\n"
   ]
  },
  {
   "cell_type": "code",
   "execution_count": 27,
   "id": "4c562362-1d55-489d-b3c0-778f67b05c28",
   "metadata": {},
   "outputs": [
    {
     "name": "stdout",
     "output_type": "stream",
     "text": [
      "9\n"
     ]
    }
   ],
   "source": [
    "#4\n",
    "from functools import reduce\n",
    "\n",
    "numbers = [1, 5, 3, 9]\n",
    "max_number = reduce(lambda x, y: x if x > y else y, numbers)\n",
    "print(max_number)\n"
   ]
  },
  {
   "cell_type": "code",
   "execution_count": 29,
   "id": "89e27519-1f68-463d-836e-592f8cc92a8b",
   "metadata": {},
   "outputs": [
    {
     "name": "stdout",
     "output_type": "stream",
     "text": [
      "Hello world from Python\n"
     ]
    }
   ],
   "source": [
    "#5\n",
    "from functools import reduce\n",
    "\n",
    "words = ['Hello', 'world', 'from', 'Python']\n",
    "concatenated = reduce(lambda x, y: x + ' ' + y, words)\n",
    "print(concatenated)\n"
   ]
  },
  {
   "cell_type": "code",
   "execution_count": 31,
   "id": "facf03a5-d5e0-4ff3-9820-5d75f9a54248",
   "metadata": {},
   "outputs": [
    {
     "name": "stdout",
     "output_type": "stream",
     "text": [
      "Hello world from Python\n"
     ]
    }
   ],
   "source": [
    "#6\n",
    "from functools import reduce\n",
    "\n",
    "words = ['Hello', 'world', 'from', 'Python']\n",
    "concatenated = reduce(lambda x, y: x + ' ' + y, words)\n",
    "print(concatenated)\n"
   ]
  },
  {
   "cell_type": "code",
   "execution_count": 33,
   "id": "8a7bbb2a-e491-4cd5-9501-8b112fef3078",
   "metadata": {},
   "outputs": [
    {
     "name": "stdout",
     "output_type": "stream",
     "text": [
      "12\n"
     ]
    }
   ],
   "source": [
    "#7\n",
    "from functools import reduce\n",
    "import math\n",
    "\n",
    "numbers = [24, 36, 48]\n",
    "gcd = reduce(math.gcd, numbers)\n",
    "print(gcd)\n"
   ]
  },
  {
   "cell_type": "code",
   "execution_count": 35,
   "id": "016fbc68-a334-41a6-a7ea-c136df529920",
   "metadata": {},
   "outputs": [
    {
     "name": "stdout",
     "output_type": "stream",
     "text": [
      "15\n"
     ]
    }
   ],
   "source": [
    "\n",
    "from functools import reduce\n",
    "\n",
    "number = 12345\n",
    "digit_sum = reduce(lambda x, y: x + y, map(int, str(number)))\n",
    "print(digit_sum)\n"
   ]
  },
  {
   "cell_type": "code",
   "execution_count": 37,
   "id": "850e47ee-e6d7-4899-940f-6b962861df89",
   "metadata": {},
   "outputs": [
    {
     "name": "stdout",
     "output_type": "stream",
     "text": [
      "[2, 4]\n"
     ]
    }
   ],
   "source": [
    "#Filter :-\n",
    "#1\n",
    "def is_even(x):\n",
    "    return x % 2 == 0\n",
    "\n",
    "numbers = [1, 2, 3, 4]\n",
    "even_numbers = list(filter(is_even, numbers))\n",
    "print(even_numbers)\n"
   ]
  },
  {
   "cell_type": "code",
   "execution_count": 39,
   "id": "969f73f2-c467-4985-9ca3-e5d326ca6d4e",
   "metadata": {},
   "outputs": [
    {
     "name": "stdout",
     "output_type": "stream",
     "text": [
      "[2, 4]\n"
     ]
    }
   ],
   "source": [
    "#2\n",
    "numbers = [1, 2, 3, 4, 5]\n",
    "even_numbers = list(filter(lambda x: x % 2 == 0, numbers))\n",
    "print(even_numbers)\n"
   ]
  },
  {
   "cell_type": "code",
   "execution_count": 41,
   "id": "12825ffc-f163-4f22-a241-e14cb23cdfb0",
   "metadata": {},
   "outputs": [
    {
     "name": "stdout",
     "output_type": "stream",
     "text": [
      "['Alice']\n"
     ]
    }
   ],
   "source": [
    "#3\n",
    "names = ['Alice', 'Bob', 'Charlie']\n",
    "names_with_a = list(filter(lambda name: name.startswith('A'), names))\n",
    "print(names_with_a)\n"
   ]
  },
  {
   "cell_type": "code",
   "execution_count": 43,
   "id": "b33896db-ba10-4697-a7ef-0c6f30364a4d",
   "metadata": {},
   "outputs": [
    {
     "name": "stdout",
     "output_type": "stream",
     "text": [
      "[2, 3, 5]\n"
     ]
    }
   ],
   "source": [
    "#4\n",
    "def is_prime(n):\n",
    "    if n <= 1:\n",
    "        return False\n",
    "    for i in range(2, int(n**0.5) + 1):\n",
    "        if n % i == 0:\n",
    "            return False\n",
    "    return True\n",
    "\n",
    "numbers = [1, 2, 3, 4, 5, 6]\n",
    "prime_numbers = list(filter(is_prime, numbers))\n",
    "print(prime_numbers)\n"
   ]
  },
  {
   "cell_type": "code",
   "execution_count": 45,
   "id": "8a3a5f57-a8d6-4eb1-bf80-e2975c6e45ad",
   "metadata": {},
   "outputs": [
    {
     "name": "stdout",
     "output_type": "stream",
     "text": [
      "[1, 2, 3]\n"
     ]
    }
   ],
   "source": [
    "#5\n",
    "items = [1, None, 2, None, 3]\n",
    "filtered_items = list(filter(lambda x: x is not None, items))\n",
    "print(filtered_items)\n"
   ]
  },
  {
   "cell_type": "code",
   "execution_count": 47,
   "id": "5bb833eb-b740-4804-92fa-ead05470232f",
   "metadata": {},
   "outputs": [
    {
     "name": "stdout",
     "output_type": "stream",
     "text": [
      "['elephant', 'giraffe']\n"
     ]
    }
   ],
   "source": [
    "#6\n",
    "words = ['cat', 'elephant', 'dog', 'giraffe']\n",
    "long_words = list(filter(lambda word: len(word) > 3, words))\n",
    "print(long_words)\n"
   ]
  },
  {
   "cell_type": "code",
   "execution_count": 49,
   "id": "ac1495d7-66eb-46c3-8c26-b068cd4a2489",
   "metadata": {},
   "outputs": [
    {
     "name": "stdout",
     "output_type": "stream",
     "text": [
      "[30, 40]\n"
     ]
    }
   ],
   "source": [
    "#7\n",
    "numbers = [10, 20, 30, 40]\n",
    "threshold = 25\n",
    "filtered_numbers = list(filter(lambda x: x > threshold, numbers))\n",
    "print(filtered_numbers)\n"
   ]
  },
  {
   "cell_type": "code",
   "execution_count": 51,
   "id": "98871540-0ab3-4fd2-91bb-6a3f43132ba8",
   "metadata": {},
   "outputs": [],
   "source": [
    "#Recursion:-\n",
    "#1\n",
    "def factorial(n):\n",
    "    if n == 0:\n",
    "        return 1\n",
    "    else:\n",
    "        return n * factorial(n - 1)\n"
   ]
  },
  {
   "cell_type": "code",
   "execution_count": 53,
   "id": "b197d219-94e3-4add-a725-fdb6623adddb",
   "metadata": {},
   "outputs": [
    {
     "name": "stdout",
     "output_type": "stream",
     "text": [
      "120\n"
     ]
    }
   ],
   "source": [
    "#2\n",
    "def factorial(n):\n",
    "    if n == 0:\n",
    "        return 1\n",
    "    else:\n",
    "        return n * factorial(n - 1)\n",
    "\n",
    "number = 5\n",
    "print(factorial(number))\n"
   ]
  },
  {
   "cell_type": "code",
   "execution_count": 55,
   "id": "75934bda-866f-4048-acc8-aae157d53d71",
   "metadata": {},
   "outputs": [
    {
     "name": "stdout",
     "output_type": "stream",
     "text": [
      "5\n"
     ]
    }
   ],
   "source": [
    "#3\n",
    "def fibonacci(n):\n",
    "    if n <= 1:\n",
    "        return n\n",
    "    else:\n",
    "        return fibonacci(n - 1) + fibonacci(n - 2)\n",
    "\n",
    "n = 5\n",
    "print(fibonacci(n))\n"
   ]
  },
  {
   "cell_type": "code",
   "execution_count": 57,
   "id": "4514e382-26f2-40f4-84e4-75285273bebf",
   "metadata": {},
   "outputs": [
    {
     "name": "stdout",
     "output_type": "stream",
     "text": [
      "10\n"
     ]
    }
   ],
   "source": [
    "#4\n",
    "def sum_list(lst):\n",
    "    if not lst:\n",
    "        return 0\n",
    "    else:\n",
    "        return lst[0] + sum_list(lst[1:])\n",
    "\n",
    "numbers = [1, 2, 3, 4]\n",
    "print(sum_list(numbers))\n"
   ]
  },
  {
   "cell_type": "code",
   "execution_count": 59,
   "id": "59c85319-a9ef-44bf-ac4b-a991c1042dd6",
   "metadata": {},
   "outputs": [],
   "source": [
    "#5\n",
    "def factorial(n):\n",
    "    if n < 0:\n",
    "        raise ValueError(\"Input should be a non-negative integer\")\n",
    "    if n == 0:\n",
    "        return 1\n",
    "    else:\n",
    "        return n * factorial(n - 1)\n"
   ]
  },
  {
   "cell_type": "code",
   "execution_count": 61,
   "id": "b952b326-f8c7-4925-9a78-fc7cdd3a90f9",
   "metadata": {},
   "outputs": [
    {
     "name": "stdout",
     "output_type": "stream",
     "text": [
      "6\n"
     ]
    }
   ],
   "source": [
    "#6\n",
    "def gcd(a, b):\n",
    "    if b == 0:\n",
    "        return a\n",
    "    else:\n",
    "        return gcd(b, a % b)\n",
    "\n",
    "print(gcd(48, 18))\n"
   ]
  },
  {
   "cell_type": "code",
   "execution_count": null,
   "id": "dbced74a-80af-4127-9f01-0f36f63842f7",
   "metadata": {},
   "outputs": [],
   "source": []
  },
  {
   "cell_type": "code",
   "execution_count": 64,
   "id": "5952bb62-447d-4f1c-b2bd-9018c538f9b9",
   "metadata": {},
   "outputs": [
    {
     "name": "stdout",
     "output_type": "stream",
     "text": [
      "olleh\n"
     ]
    }
   ],
   "source": [
    "#7\n",
    "def reverse_string(s):\n",
    "    if len(s) == 0:\n",
    "        return s\n",
    "    else:\n",
    "        return reverse_string(s[1:]) + s[0]\n",
    "\n",
    "print(reverse_string(\"hello\"))\n"
   ]
  },
  {
   "cell_type": "code",
   "execution_count": 66,
   "id": "254a8123-f44e-4474-9bdf-e1f7c49bc508",
   "metadata": {},
   "outputs": [
    {
     "name": "stdout",
     "output_type": "stream",
     "text": [
      "8\n"
     ]
    }
   ],
   "source": [
    "#8\n",
    "def power(x, n):\n",
    "    if n == 0:\n",
    "        return 1\n",
    "    else:\n",
    "        return x * power(x, n - 1)\n",
    "\n",
    "print(power(2, 3))\n"
   ]
  },
  {
   "cell_type": "code",
   "execution_count": 68,
   "id": "01c8328b-6fe9-4204-a98d-3a65a054e432",
   "metadata": {},
   "outputs": [
    {
     "name": "stdout",
     "output_type": "stream",
     "text": [
      "['abc', 'acb', 'bac', 'bca', 'cab', 'cba']\n"
     ]
    }
   ],
   "source": [
    "#9\n",
    "def permutations(s):\n",
    "    if len(s) == 0:\n",
    "        return ['']\n",
    "    else:\n",
    "        result = []\n",
    "        for i, char in enumerate(s):\n",
    "            for perm in permutations(s[:i] + s[i+1:]):\n",
    "                result.append(char + perm)\n",
    "        return result\n",
    "\n",
    "print(permutations(\"abc\"))\n"
   ]
  },
  {
   "cell_type": "code",
   "execution_count": 70,
   "id": "178fd905-90eb-4431-a709-ee7aac6f9189",
   "metadata": {},
   "outputs": [
    {
     "name": "stdout",
     "output_type": "stream",
     "text": [
      "True\n"
     ]
    }
   ],
   "source": [
    "#10\n",
    "def is_palindrome(s):\n",
    "    if len(s) <= 1:\n",
    "        return True\n",
    "    if s[0] != s[-1]:\n",
    "        return False\n",
    "    return is_palindrome(s[1:-1])\n",
    "\n",
    "print(is_palindrome(\"radar\"))\n"
   ]
  },
  {
   "cell_type": "code",
   "execution_count": 72,
   "id": "19e6e7c4-7fbc-467e-bfb3-f5346ad442e0",
   "metadata": {},
   "outputs": [
    {
     "name": "stdout",
     "output_type": "stream",
     "text": [
      "[[], [1], [2], [1, 2], [3], [1, 3], [2, 3], [1, 2, 3]]\n"
     ]
    }
   ],
   "source": [
    "#11\n",
    "def combinations(lst):\n",
    "    if len(lst) == 0:\n",
    "        return [[]]\n",
    "    else:\n",
    "        combs = combinations(lst[:-1])\n",
    "        return combs + [c + [lst[-1]] for c in combs]\n",
    "\n",
    "print(combinations([1, 2, 3]))\n"
   ]
  },
  {
   "cell_type": "code",
   "execution_count": 102,
   "id": "f829c3e5-9c69-4a76-80de-1b0c85039add",
   "metadata": {},
   "outputs": [
    {
     "name": "stdout",
     "output_type": "stream",
     "text": [
      "Hello, Alice!\n"
     ]
    }
   ],
   "source": [
    "#Basics of Functions:\n",
    "#1\n",
    "def greet(name):\n",
    "    print(f\"Hello, {name}!\")\n",
    "\n",
    "greet(\"Alice\")\n"
   ]
  },
  {
   "cell_type": "code",
   "execution_count": 76,
   "id": "8c168250-0480-4195-b552-5065e751c282",
   "metadata": {},
   "outputs": [
    {
     "name": "stdout",
     "output_type": "stream",
     "text": [
      "7\n"
     ]
    }
   ],
   "source": [
    "#2\n",
    "def add(a, b):\n",
    "    return a + b\n",
    "\n",
    "result = add(3, 4)\n",
    "print(result)\n"
   ]
  },
  {
   "cell_type": "code",
   "execution_count": 78,
   "id": "0e435db2-73a2-46be-bc5d-826868d8ba9f",
   "metadata": {},
   "outputs": [
    {
     "name": "stdout",
     "output_type": "stream",
     "text": [
      "Hello, Guest!\n",
      "Hello, Alice!\n"
     ]
    }
   ],
   "source": [
    "#3\n",
    "def greet(name=\"Guest\"):\n",
    "    print(f\"Hello, {name}!\")\n",
    "\n",
    "greet()\n",
    "greet(\"Alice\")\n"
   ]
  },
  {
   "cell_type": "code",
   "execution_count": 80,
   "id": "d69bee85-a64e-4396-9a08-6cd49980f215",
   "metadata": {},
   "outputs": [
    {
     "name": "stdout",
     "output_type": "stream",
     "text": [
      "1\n",
      "2\n",
      "3\n",
      "4\n"
     ]
    }
   ],
   "source": [
    "#4\n",
    "def print_args(*args):\n",
    "    for arg in args:\n",
    "        print(arg)\n",
    "\n",
    "print_args(1, 2, 3, 4)\n"
   ]
  },
  {
   "cell_type": "code",
   "execution_count": 82,
   "id": "472e6b4a-7449-4d9b-bb18-fe119b144a36",
   "metadata": {},
   "outputs": [
    {
     "name": "stdout",
     "output_type": "stream",
     "text": [
      "1\n",
      "2\n",
      "3\n",
      "4\n"
     ]
    }
   ],
   "source": [
    "#5\n",
    "def print_args(*args):\n",
    "    for arg in args:\n",
    "        print(arg)\n",
    "\n",
    "print_args(1, 2, 3, 4)\n"
   ]
  },
  {
   "cell_type": "code",
   "execution_count": 84,
   "id": "c34c5a3c-3bb6-45ce-bb98-82d5bf5777a0",
   "metadata": {},
   "outputs": [
    {
     "name": "stdout",
     "output_type": "stream",
     "text": [
      "Name: Alice, Age: 30\n"
     ]
    }
   ],
   "source": [
    "#6\n",
    "def introduce(name, age):\n",
    "    print(f\"Name: {name}, Age: {age}\")\n",
    "\n",
    "introduce(name=\"Alice\", age=30)\n"
   ]
  },
  {
   "cell_type": "code",
   "execution_count": 86,
   "id": "bf62885d-1657-44ae-9edb-299a029807d1",
   "metadata": {},
   "outputs": [
    {
     "name": "stdout",
     "output_type": "stream",
     "text": [
      "25\n"
     ]
    }
   ],
   "source": [
    "#Function Parameters and Arguments:\n",
    "#1\n",
    "square = lambda x: x * x\n",
    "print(square(5))\n"
   ]
  },
  {
   "cell_type": "code",
   "execution_count": 88,
   "id": "d4466e7c-7fb7-4f77-8a4c-189cda267cc7",
   "metadata": {},
   "outputs": [
    {
     "name": "stdout",
     "output_type": "stream",
     "text": [
      "12\n"
     ]
    }
   ],
   "source": [
    "#2\n",
    "def outer_function(x):\n",
    "    def inner_function(y):\n",
    "        return y + 1\n",
    "    return inner_function(x) * 2\n",
    "\n",
    "print(outer_function(5))\n"
   ]
  },
  {
   "cell_type": "code",
   "execution_count": 90,
   "id": "4ad538bc-1217-482f-9da4-88b7e58df35c",
   "metadata": {},
   "outputs": [
    {
     "name": "stdout",
     "output_type": "stream",
     "text": [
      "Quotient: 3, Remainder: 1\n"
     ]
    }
   ],
   "source": [
    "#3\n",
    "def divide_and_remainder(x, y):\n",
    "    return x // y, x % y\n",
    "\n",
    "quotient, remainder = divide_and_remainder(10, 3)\n",
    "print(f\"Quotient: {quotient}, Remainder: {remainder}\")\n"
   ]
  },
  {
   "cell_type": "code",
   "execution_count": 92,
   "id": "f9cf7f5f-1f9e-4600-bcef-4aeac9542838",
   "metadata": {},
   "outputs": [
    {
     "name": "stdout",
     "output_type": "stream",
     "text": [
      "\n",
      "    Greets the person with the given name.\n",
      "    :param name: Name of the person\n",
      "    \n"
     ]
    }
   ],
   "source": [
    "#4\n",
    "def greet(name):\n",
    "    \"\"\"\n",
    "    Greets the person with the given name.\n",
    "    :param name: Name of the person\n",
    "    \"\"\"\n",
    "    print(f\"Hello, {name}!\")\n",
    "\n",
    "print(greet.__doc__)\n"
   ]
  },
  {
   "cell_type": "code",
   "execution_count": 94,
   "id": "66baf852-0a26-4eaa-9852-c92dadf3b2ad",
   "metadata": {},
   "outputs": [
    {
     "name": "stdout",
     "output_type": "stream",
     "text": [
      "6\n"
     ]
    }
   ],
   "source": [
    "#5\n",
    "def multiply(a, b):\n",
    "    return a * b\n",
    "\n",
    "result = multiply(2, 3)\n",
    "print(result)\n"
   ]
  },
  {
   "cell_type": "code",
   "execution_count": 96,
   "id": "6989d887-ea16-407a-9494-5892e90e3e05",
   "metadata": {},
   "outputs": [
    {
     "name": "stdout",
     "output_type": "stream",
     "text": [
      "Hello, Alice!\n"
     ]
    }
   ],
   "source": [
    "#Return Values and Scoping:\n",
    "#1\n",
    "def greet(name):\n",
    "    print(f\"Hello, {name}!\")\n",
    "\n",
    "greet(\"Alice\")\n"
   ]
  },
  {
   "cell_type": "code",
   "execution_count": 98,
   "id": "ce8c24f6-2295-4ab2-b5dd-7eab3840404b",
   "metadata": {},
   "outputs": [
    {
     "name": "stdout",
     "output_type": "stream",
     "text": [
      "25\n"
     ]
    }
   ],
   "source": [
    "#2\n",
    "def apply_function(func, x):\n",
    "    return func(x)\n",
    "\n",
    "def square(x):\n",
    "    return x * x\n",
    "\n",
    "print(apply_function(square, 5))\n"
   ]
  },
  {
   "cell_type": "code",
   "execution_count": 100,
   "id": "b82d7b68-78fb-4405-a264-0379b9de38e6",
   "metadata": {},
   "outputs": [],
   "source": [
    "#3\n",
    "def factorial(n):\n",
    "    if n == 0:\n",
    "        return 1\n",
    "    else:\n",
    "        return n * factorial(n - 1)\n"
   ]
  },
  {
   "cell_type": "code",
   "execution_count": null,
   "id": "433de140-94ef-4c4b-8705-683eb11e0399",
   "metadata": {},
   "outputs": [],
   "source": [
    "#4\n",
    "def my_function():\n",
    "    x = 10  # Local variable\n",
    "    print(x)\n",
    "\n",
    "my_function()\n",
    "# print(x)  # This will raise an error\n"
   ]
  }
 ],
 "metadata": {
  "kernelspec": {
   "display_name": "Python 3 (ipykernel)",
   "language": "python",
   "name": "python3"
  },
  "language_info": {
   "codemirror_mode": {
    "name": "ipython",
    "version": 3
   },
   "file_extension": ".py",
   "mimetype": "text/x-python",
   "name": "python",
   "nbconvert_exporter": "python",
   "pygments_lexer": "ipython3",
   "version": "3.12.4"
  }
 },
 "nbformat": 4,
 "nbformat_minor": 5
}
